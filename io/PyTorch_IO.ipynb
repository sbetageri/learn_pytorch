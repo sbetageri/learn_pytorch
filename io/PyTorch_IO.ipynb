{
 "cells": [
  {
   "cell_type": "markdown",
   "metadata": {},
   "source": [
    "# PyTorch : Reading data"
   ]
  },
  {
   "cell_type": "code",
   "execution_count": 1,
   "metadata": {},
   "outputs": [],
   "source": [
    "import torch\n",
    "from torch.utils.data import DataLoader, Dataset\n",
    "import pandas as pd"
   ]
  },
  {
   "cell_type": "markdown",
   "metadata": {},
   "source": [
    "We are reading in the data as a pandas DataFrame in this scenario. But as explained below, it is not limited to just a dataframe."
   ]
  },
  {
   "cell_type": "code",
   "execution_count": 2,
   "metadata": {},
   "outputs": [],
   "source": [
    "csv_file = '../data/mnist.csv'"
   ]
  },
  {
   "cell_type": "code",
   "execution_count": 3,
   "metadata": {},
   "outputs": [],
   "source": [
    "class CustomData(Dataset):\n",
    "    def __init__(self, file_name):\n",
    "        ## file_name is something that I added.\n",
    "        self.df = pd.read_csv(file_name)\n",
    "        \n",
    "    def __len__(self):\n",
    "        return len(self.df)\n",
    "    \n",
    "    def __getitem__(self, index):\n",
    "        val = self.df.loc[index]\n",
    "        \n",
    "        # Reshaping the series.\n",
    "        val = val.values.reshape(val.shape[0], 1)\n",
    "        label = val[0]\n",
    "        features = val[1:]\n",
    "        sample = {\n",
    "            'label': label,\n",
    "            'features': features\n",
    "        }\n",
    "        return sample"
   ]
  },
  {
   "cell_type": "markdown",
   "metadata": {},
   "source": [
    "## \\_\\_len\\_\\_(self)\n",
    "This method must return the size of the dataset. "
   ]
  },
  {
   "cell_type": "markdown",
   "metadata": {},
   "source": [
    "## \\_\\_getitem\\_\\_(self, index):\n",
    "Index which is passed, is usually the index of the data object that is needed by the larger program.\n",
    "Better to return a list,dict, tuple or tensor of tensors. Need to check if images can be returned? Possible to read them in, in each case, and parse them into tensors. "
   ]
  },
  {
   "cell_type": "code",
   "execution_count": 4,
   "metadata": {},
   "outputs": [],
   "source": [
    "dataset = CustomData(csv_file)"
   ]
  },
  {
   "cell_type": "code",
   "execution_count": 5,
   "metadata": {},
   "outputs": [],
   "source": [
    "dataloader = DataLoader(dataset=dataset,batch_size=4)"
   ]
  },
  {
   "cell_type": "code",
   "execution_count": 6,
   "metadata": {},
   "outputs": [
    {
     "name": "stdout",
     "output_type": "stream",
     "text": [
      "<class 'dict'>\n",
      "dict_keys(['label', 'features'])\n",
      "2\n",
      "Labels : torch.Size([4, 1])\n",
      "Features : torch.Size([4, 784, 1])\n"
     ]
    }
   ],
   "source": [
    "for obj in dataloader:\n",
    "    print(type(obj))\n",
    "    print(obj.keys())\n",
    "    print(len(obj))\n",
    "    print('Labels : ' + str(obj['label'].shape))\n",
    "    print('Features : ' + str(obj['features'].shape))\n",
    "    break"
   ]
  },
  {
   "cell_type": "markdown",
   "metadata": {},
   "source": [
    "## Interpreting 'output' of dataloader\n",
    "1. Each obj that is returned from the dataloader is a batch of size 4.\n",
    "1. The obj is a dict in this case, with the keys as given in the initial __getitem__() method.\n",
    "1. Since these are batches, the dict values are tensors themselves.\n",
    "1. The 1st dimension of the tensor gives the position of each data object within the batch. Example: A value of 3 in the 1st dimension indexes the 3rd object in the given batch."
   ]
  }
 ],
 "metadata": {
  "kernelspec": {
   "display_name": "Python 3",
   "language": "python",
   "name": "python3"
  },
  "language_info": {
   "codemirror_mode": {
    "name": "ipython",
    "version": 3
   },
   "file_extension": ".py",
   "mimetype": "text/x-python",
   "name": "python",
   "nbconvert_exporter": "python",
   "pygments_lexer": "ipython3",
   "version": "3.6.6"
  }
 },
 "nbformat": 4,
 "nbformat_minor": 2
}
